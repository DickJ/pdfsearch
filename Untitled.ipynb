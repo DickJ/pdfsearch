{
 "cells": [
  {
   "cell_type": "code",
   "execution_count": 5,
   "metadata": {
    "collapsed": false
   },
   "outputs": [],
   "source": [
    "import glob\n",
    "import PyPDF2\n",
    "import re"
   ]
  },
  {
   "cell_type": "code",
   "execution_count": 6,
   "metadata": {
    "collapsed": false
   },
   "outputs": [],
   "source": [
    "QUERY = re.compile(\"class advis(e|o)r\", flags=re.IGNORECASE)\n",
    "files = glob.glob(\"TW-5/**/*.pdf\", recursive=True)"
   ]
  },
  {
   "cell_type": "code",
   "execution_count": 17,
   "metadata": {
    "collapsed": true
   },
   "outputs": [],
   "source": [
    "def execute():\n",
    "    for filename in files[12:]:\n",
    "        print(\"Working file: \" + filename)\n",
    "        try:\n",
    "            file=PyPDF2.PdfFileReader(filename)\n",
    "            for i in range(file.getNumPages()):\n",
    "                page = file.getPage(i)\n",
    "                try:\n",
    "                    text = page.extractText()\n",
    "                except KeyError:\n",
    "                    print(\"KeyError: \" + filename + \":\" + str(i))\n",
    "                if QUERY.search(text):\n",
    "                    yield (filename, i)\n",
    "        except Exception:\n",
    "            print(\"PdfReadError: \" + filename)"
   ]
  },
  {
   "cell_type": "code",
   "execution_count": 18,
   "metadata": {
    "collapsed": false
   },
   "outputs": [
    {
     "name": "stdout",
     "output_type": "stream",
     "text": [
      "Working file: TW-5/NATOPS/General NATOPS/USN Instrument Flight Manual (15 Nov 06).pdf\n",
      "PdfReadError: TW-5/NATOPS/General NATOPS/USN Instrument Flight Manual (15 Nov 06).pdf\n",
      "Working file: TW-5/NATOPS/General NATOPS/OPNAVINST 3710.7U (IC-47).pdf\n",
      "KeyError: TW-5/NATOPS/General NATOPS/OPNAVINST 3710.7U (IC-47).pdf:39\n",
      "KeyError: TW-5/NATOPS/General NATOPS/OPNAVINST 3710.7U (IC-47).pdf:85\n",
      "KeyError: TW-5/NATOPS/General NATOPS/OPNAVINST 3710.7U (IC-47).pdf:244\n",
      "KeyError: TW-5/NATOPS/General NATOPS/OPNAVINST 3710.7U (IC-47).pdf:368\n",
      "KeyError: TW-5/NATOPS/General NATOPS/OPNAVINST 3710.7U (IC-47).pdf:396\n",
      "KeyError: TW-5/NATOPS/General NATOPS/OPNAVINST 3710.7U (IC-47).pdf:406\n",
      "KeyError: TW-5/NATOPS/General NATOPS/OPNAVINST 3710.7U (IC-47).pdf:412\n",
      "KeyError: TW-5/NATOPS/General NATOPS/OPNAVINST 3710.7U (IC-47).pdf:416\n",
      "KeyError: TW-5/NATOPS/General NATOPS/OPNAVINST 3710.7U (IC-47).pdf:424\n",
      "KeyError: TW-5/NATOPS/General NATOPS/OPNAVINST 3710.7U (IC-47).pdf:449\n",
      "KeyError: TW-5/NATOPS/General NATOPS/OPNAVINST 3710.7U (IC-47).pdf:487\n",
      "Working file: TW-5/FLIPs/VFR-Sup (15OCT15).pdf\n",
      "Working file: TW-5/FLIPs/GP_17SEP15.pdf\n",
      "Working file: TW-5/FLIPs/terminal_legend.pdf\n",
      "Working file: TW-5/FLIPs/AP1_15OCT15.pdf\n",
      "Working file: TW-5/FLIPs/IFR-Sup (15OCT15).pdf\n",
      "Working file: TW-5/FLIPs/FIH (17SEP15).pdf\n",
      "Working file: TW-5/Syllabi/PFIT.pdf\n",
      "Working file: TW-5/Syllabi/CTW5NOTE 1500 DTD 26 JUN 13.pdf\n",
      "Working file: TW-5/Syllabi/JPPT.pdf\n",
      "('TW-5/Syllabi/JPPT.pdf', 26)\n",
      "('TW-5/Syllabi/JPPT.pdf', 34)\n",
      "('TW-5/Syllabi/JPPT.pdf', 46)\n"
     ]
    },
    {
     "name": "stderr",
     "output_type": "stream",
     "text": [
      "PdfReadWarning: Xref table not zero-indexed. ID numbers for objects will be corrected. [pdf.py:1736]\n"
     ]
    }
   ],
   "source": [
    "results = execute()\n",
    "for r in results:\n",
    "    print(r)"
   ]
  }
 ],
 "metadata": {
  "kernelspec": {
   "display_name": "Python 3",
   "language": "python",
   "name": "python3"
  },
  "language_info": {
   "codemirror_mode": {
    "name": "ipython",
    "version": 3.0
   },
   "file_extension": ".py",
   "mimetype": "text/x-python",
   "name": "python",
   "nbconvert_exporter": "python",
   "pygments_lexer": "ipython3",
   "version": "3.5.1"
  }
 },
 "nbformat": 4,
 "nbformat_minor": 0
}